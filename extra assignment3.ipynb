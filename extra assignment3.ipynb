{
 "cells": [
  {
   "cell_type": "code",
   "execution_count": 4,
   "metadata": {},
   "outputs": [
    {
     "name": "stdout",
     "output_type": "stream",
     "text": [
      "value:10\n",
      "10 correct\n"
     ]
    }
   ],
   "source": [
    "name=int(input(\"value:\"))\n",
    "if(name==10):\n",
    "    print(name,\"correct\")"
   ]
  },
  {
   "cell_type": "code",
   "execution_count": 14,
   "metadata": {},
   "outputs": [
    {
     "name": "stdout",
     "output_type": "stream",
     "text": [
      "Enter the password: hopeai\n",
      "your password is correct\n"
     ]
    }
   ],
   "source": [
    "password =\"hopeai\"\n",
    "i= input(\"Enter the password: \")\n",
    "if(i== password):\n",
    "    print(\"your password is correct\")\n",
    "else:\n",
    "    print(\"your password is incorrect\")"
   ]
  },
  {
   "cell_type": "code",
   "execution_count": 19,
   "metadata": {},
   "outputs": [
    {
     "name": "stdout",
     "output_type": "stream",
     "text": [
      "age:15\n",
      "children\n"
     ]
    }
   ],
   "source": [
    "age=int(input(\"age:\"))\n",
    "if(age<=2):\n",
    "    print(\"babies\")\n",
    "elif(age<=16):\n",
    "    print(\"children\")\n",
    "elif(age<=30):\n",
    "    print(\"young adults\")\n",
    "elif(age<=45):\n",
    "    print(\"middle age adults\")\n",
    "else:\n",
    "    print(\"old adults\")\n",
    "    "
   ]
  },
  {
   "cell_type": "code",
   "execution_count": 23,
   "metadata": {},
   "outputs": [
    {
     "name": "stdout",
     "output_type": "stream",
     "text": [
      "enter any number:-9\n",
      "no is negative\n"
     ]
    }
   ],
   "source": [
    "num=int(input(\"enter any number:\"))\n",
    "if(num>0):\n",
    "    print(\"no is positive\")\n",
    "else:\n",
    "    print(\"no is negative\")"
   ]
  },
  {
   "cell_type": "code",
   "execution_count": 31,
   "metadata": {},
   "outputs": [
    {
     "name": "stdout",
     "output_type": "stream",
     "text": [
      "enter any number to check:23\n",
      "it is not divisible by 5\n"
     ]
    }
   ],
   "source": [
    "num=int(input(\"enter any number to check:\"))\n",
    "if(num%5==0):\n",
    "    print(\"it is divisible by 5\")\n",
    "else:\n",
    "    print(\"it is not divisible by 5\")"
   ]
  },
  {
   "cell_type": "code",
   "execution_count": null,
   "metadata": {},
   "outputs": [],
   "source": []
  }
 ],
 "metadata": {
  "kernelspec": {
   "display_name": "Python 3",
   "language": "python",
   "name": "python3"
  },
  "language_info": {
   "codemirror_mode": {
    "name": "ipython",
    "version": 3
   },
   "file_extension": ".py",
   "mimetype": "text/x-python",
   "name": "python",
   "nbconvert_exporter": "python",
   "pygments_lexer": "ipython3",
   "version": "3.7.4"
  }
 },
 "nbformat": 4,
 "nbformat_minor": 2
}
